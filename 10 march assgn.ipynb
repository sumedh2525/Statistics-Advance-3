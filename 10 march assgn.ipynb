{
 "cells": [
  {
   "cell_type": "raw",
   "id": "520a71fb-dac3-4329-be1f-bb5f182d7c5d",
   "metadata": {},
   "source": [
    "Q1: What is Estimation Statistics? Explain point estimate and interval estimate.\n",
    "\n",
    "Ans:\n",
    "\n",
    "Estimation statistics is a branch of statistics that involves making inferences or predictions about population parameters based on sample data. It allows us to estimate unknown population parameters, such as the mean, standard deviation, or proportion, using information from a sample.\n",
    "\n",
    "Point Estimate:\n",
    "A point estimate is a single value that is used to estimate an unknown population parameter. It is typically calculated using sample data and serves as a \"best guess\" or approximation of the true parameter value\n",
    "\n",
    "Interval Estimate:\n",
    "An interval estimate provides a range of plausible values within which the true population parameter is likely to fall. Instead of providing a single point estimate, interval estimates incorporate a margin of error that accounts for sampling variability\n",
    "\n",
    "\n"
   ]
  },
  {
   "cell_type": "raw",
   "id": "8432c3d8-4f94-4001-b5c8-623b11649fb6",
   "metadata": {},
   "source": [
    "Q2. Write a Python function to estimate the population mean using a sample mean and standard\n",
    "deviation.\n",
    "\n",
    "Ans:"
   ]
  },
  {
   "cell_type": "code",
   "execution_count": 1,
   "id": "0ade66fc-cad5-45e6-b514-9a71c8bdd429",
   "metadata": {},
   "outputs": [
    {
     "name": "stdout",
     "output_type": "stream",
     "text": [
      "6.0\n",
      "Estimated population mean: 10.2\n",
      "Confidence interval: [9.709999999999999, 10.69]\n"
     ]
    }
   ],
   "source": [
    "import math \n",
    "import statistics as stats\n",
    "\n",
    "# using sample mean:\n",
    "def estimate_population_mean(sample_data):\n",
    "    n = len(sample_data)\n",
    "    sample_mean = sum(sample_data)/n\n",
    "    return sample_mean\n",
    "\n",
    "sample = [2,4,6,8,10]\n",
    "population_mean = estimate_population_mean(sample)\n",
    "\n",
    "print(population_mean)\n",
    "\n",
    "\n",
    "import math\n",
    "\n",
    "def estimate_population_mean(sample_mean, sample_size, standard_deviation, confidece_level):\n",
    "    # Calculate the critical value based on the confidence level\n",
    "    z = {\n",
    "        0.90: 1.645,\n",
    "        0.95: 1.96,\n",
    "        0.99: 2.576\n",
    "    }.get(confidece_level, None)\n",
    "\n",
    "    if z is None:\n",
    "        raise ValueError(\"Invalid confidence level. Supported values: 0.90, 0.95, 0.99\")\n",
    "\n",
    "    # Calculate the margin of error\n",
    "    margin_of_error = z * (standard_deviation / math.sqrt(sample_size))\n",
    "\n",
    "    # Calculate the lower and upper bounds of the confidence interval\n",
    "    lower_bound = sample_mean - margin_of_error\n",
    "    upper_bound = sample_mean + margin_of_error\n",
    "\n",
    "    return lower_bound, upper_bound\n",
    "sample_mean = 10.2  # Sample mean\n",
    "sample_size = 100  # Sample size\n",
    "standard_deviation = 2.5  # Population standard deviation\n",
    "confidece_level = 0.95  # Confidence level (e.g., 0.90, 0.95, 0.99)\n",
    "\n",
    "lower_bound, upper_bound = estimate_population_mean(sample_mean, sample_size, standard_deviation, confidece_level)\n",
    "\n",
    "print(f\"Estimated population mean: {sample_mean}\")\n",
    "print(f\"Confidence interval: [{lower_bound}, {upper_bound}]\")\n"
   ]
  },
  {
   "cell_type": "code",
   "execution_count": null,
   "id": "d1ad9c43-710c-4677-9926-bdc49b4d93b3",
   "metadata": {},
   "outputs": [],
   "source": []
  },
  {
   "cell_type": "code",
   "execution_count": null,
   "id": "eb3c8fdd-dc18-43ac-a4c1-43df90d39edf",
   "metadata": {},
   "outputs": [],
   "source": []
  },
  {
   "cell_type": "raw",
   "id": "90e86822-15a7-4d4b-b44d-78a17841ce98",
   "metadata": {},
   "source": [
    "Q3: What is Hypothesis testing? Why is it used? State the importance of Hypothesis testing.\n",
    "\n",
    "\n",
    "Hypothesis testing is a statistical procedure used to make inferences or draw conclusions about a population based on a sample of data. It involves formulating two competing hypotheses, the null hypothesis (H₀) and the alternative hypothesis (H₁), and testing them using sample data.\n",
    "\n",
    "Hypothesis testing is used to assess the evidence provided by the sample data in order to determine whether to accept or reject the null hypothesis. By doing so, it allows us to make conclusions about the population from which the sample was drawn.\n",
    "\n",
    "The importance of hypothesis testing lies in its ability to provide a structured and rigorous framework for making statistical inferences\n",
    "\n",
    "\n",
    "\n"
   ]
  },
  {
   "cell_type": "raw",
   "id": "9890b787-ec46-4bd3-9263-2988c7524a28",
   "metadata": {},
   "source": [
    "Q4. Create a hypothesis that states whether the average weight of male college students is greater than the average weight of female college students.\n",
    " \n",
    "Ans:\n",
    "Hypothesis: The average weight of male college students is greater than the average weight of female college students.\n",
    "This hypothesis is based on the fact that men are generally larger and heavier than women. This is due to a number of factors, including differences in hormones, genetics, and muscle mass.\n",
    "To test this hypothesis, we would need to collect data on the weight of a large sample of male and female college students. We would then use a statistical test to compare the two groups. \n",
    "\n",
    "\n",
    "\n",
    "\n"
   ]
  },
  {
   "cell_type": "raw",
   "id": "48294827-3a18-42a8-bbbc-cc8cf40fdb63",
   "metadata": {},
   "source": [
    "Q5. Write a Python script to conduct a hypothesis test on the difference between two population means,\n",
    "given a sample from each population."
   ]
  },
  {
   "cell_type": "code",
   "execution_count": 3,
   "id": "dee8e484-a7dd-4677-a8f6-fad26aefa333",
   "metadata": {},
   "outputs": [
    {
     "ename": "ValueError",
     "evalue": "The truth value of an array with more than one element is ambiguous. Use a.any() or a.all()",
     "output_type": "error",
     "traceback": [
      "\u001b[0;31m---------------------------------------------------------------------------\u001b[0m",
      "\u001b[0;31mValueError\u001b[0m                                Traceback (most recent call last)",
      "Cell \u001b[0;32mIn[3], line 22\u001b[0m\n\u001b[1;32m     19\u001b[0m p_value \u001b[38;5;241m=\u001b[39m stats\u001b[38;5;241m.\u001b[39mt\u001b[38;5;241m.\u001b[39mcdf(t_statistic, \u001b[38;5;28mlen\u001b[39m(sample_1) \u001b[38;5;241m-\u001b[39m \u001b[38;5;241m1\u001b[39m)\n\u001b[1;32m     21\u001b[0m \u001b[38;5;66;03m# Make a decision\u001b[39;00m\n\u001b[0;32m---> 22\u001b[0m \u001b[38;5;28;01mif\u001b[39;00m p_value \u001b[38;5;241m<\u001b[39m alpha:\n\u001b[1;32m     23\u001b[0m     \u001b[38;5;28mprint\u001b[39m(\u001b[38;5;124m\"\u001b[39m\u001b[38;5;124mReject the null hypothesis.\u001b[39m\u001b[38;5;124m\"\u001b[39m)\n\u001b[1;32m     24\u001b[0m \u001b[38;5;28;01melse\u001b[39;00m:\n",
      "\u001b[0;31mValueError\u001b[0m: The truth value of an array with more than one element is ambiguous. Use a.any() or a.all()"
     ]
    }
   ],
   "source": [
    "import numpy as np\n",
    "import scipy.stats as stats\n",
    "\n",
    "# Define the null and alternative hypotheses\n",
    "H_0 = \"The means of the two populations are equal.\"\n",
    "H_1 = \"The means of the two populations are not equal.\"\n",
    "\n",
    "# Set the significance level\n",
    "alpha = 0.05\n",
    "\n",
    "# Collect the data\n",
    "sample_1 = np.array([1, 2, 3, 4, 5])\n",
    "sample_2 = np.array([6, 7, 8, 9, 10])\n",
    "\n",
    "# Calculate the test statistic\n",
    "t_statistic = stats.ttest_ind(sample_1, sample_2, equal_var=True)\n",
    "\n",
    "# Calculate the p-value\n",
    "p_value = stats.t.cdf(t_statistic, len(sample_1) - 1)\n",
    "\n",
    "# Make a decision\n",
    "if p_value < alpha:\n",
    "    print(\"Reject the null hypothesis.\")\n",
    "else:\n",
    "    print(\"Fail to reject the null hypothesis.\")\n",
    "\n",
    "                     "
   ]
  },
  {
   "cell_type": "raw",
   "id": "9a3a3914-7743-468f-93b0-8b920f53ad30",
   "metadata": {},
   "source": [
    "Q6: What is a null and alternative hypothesis? Give some examples.\n",
    "\n",
    "\n",
    "In statistics, a null hypothesis and an alternative hypothesis are the two complementary statements about a population parameter that are being tested. The null hypothesis states that the parameter is equal to a certain value, while the alternative hypothesis states that the parameter is not equal to that value.\n",
    "\n",
    "For example, if you are testing the hypothesis that the average height of men is 6 feet tall, the null hypothesis would be that the average height of men is 6 feet tall, and the alternative hypothesis would be that the average height of men is not 6 feet tall.\n",
    "\n",
    "\n",
    "\n"
   ]
  },
  {
   "cell_type": "raw",
   "id": "cf570776-3ecc-4914-ac15-257cb5470f2a",
   "metadata": {},
   "source": [
    "Q7: Write down the steps involved in hypothesis testing.\n",
    "\n",
    "1.State the hypotheses.\n",
    "2.Set the significance level.\n",
    "3.Collect data.\n",
    "4.Calculate the test statistic\n",
    "5.Find the p-value. \n",
    "6.Make a decision.\n",
    "7.Interpret the results.\n",
    "\n",
    "\n"
   ]
  },
  {
   "cell_type": "raw",
   "id": "4b3f547a-15a9-4625-bce7-8bd541f570d3",
   "metadata": {},
   "source": [
    "Q8. Define p-value and explain its significance in hypothesis testing.\n",
    "\n",
    "If the p-value is less than or equal to the significance level, then the null hypothesis is rejected. This means that there is evidence to support the alternative hypothesis. If the p-value is greater than the significance level, then the null hypothesis is not rejected. This means that there is not enough evidence to support the alternative hypothesis.\n",
    "\n",
    "\n"
   ]
  },
  {
   "cell_type": "raw",
   "id": "f20762ee-7284-4d69-8038-ed8cbeb7a38d",
   "metadata": {},
   "source": [
    "Q9. Generate a Student's t-distribution plot using Python's matplotlib library, with the degrees of freedom\n",
    "parameter set to 10."
   ]
  },
  {
   "cell_type": "code",
   "execution_count": 2,
   "id": "cd8b5be3-4132-4b8b-be76-63957661ffa1",
   "metadata": {},
   "outputs": [
    {
     "data": {
      "image/png": "[encoded data removed]",
      "text/plain": [
       "<Figure size 640x480 with 1 Axes>"
      ]
     },
     "metadata": {},
     "output_type": "display_data"
    }
   ],
   "source": [
    "import numpy as np\n",
    "import matplotlib.pyplot as plt\n",
    "from scipy.stats import t\n",
    "\n",
    "df = 10\n",
    "x = np.linspace(-5,5,100)\n",
    "#calculate the t-distribution values\n",
    "y = t.pdf(x,df)\n",
    "plt.plot(x,y , label= f\"t-distribution (df={df})\")\n",
    "plt.xlabel('x')\n",
    "plt.ylabel('Provability Density')\n",
    "plt.title(f\"students's t-distribution (df={df})\")\n",
    "plt.legend()\n",
    "\n",
    "\n",
    "plt.show()"
   ]
  },
  {
   "cell_type": "raw",
   "id": "afa1e412-684a-49a1-888f-b86cc7ed7e5d",
   "metadata": {},
   "source": [
    "Q10. Write a Python program to calculate the two-sample t-test for independent samples, given two\n",
    "random samples of equal size and a null hypothesis that the population means are equal."
   ]
  },
  {
   "cell_type": "code",
   "execution_count": 10,
   "id": "51c7b005-a574-4b14-8036-6b9612595b03",
   "metadata": {},
   "outputs": [
    {
     "name": "stdout",
     "output_type": "stream",
     "text": [
      "t-statistic:=-0.4251151509488518\n",
      "p-value:=0.6797553713106459\n"
     ]
    }
   ],
   "source": [
    "import numpy as np\n",
    "from scipy.stats import ttest_ind\n",
    "\n",
    "sample1 = np.array([2,4,6,4,7,4])\n",
    "sample2 = np.array([3,5,7,2,5,8])\n",
    "\n",
    "# Calculate the t-statistic\n",
    "t_statistic, p_value = ttest_ind(sample1, sample2)\n",
    "print(f\"t-statistic:={t_statistic}\")\n",
    "print(f\"p-value:={p_value}\")\n",
    "                                "
   ]
  },
  {
   "cell_type": "raw",
   "id": "f2614b34-ecd6-4d50-b603-00f9dbeda82c",
   "metadata": {},
   "source": [
    "Q11: What is Student’s t distribution? When to use the t-Distribution.\n",
    "Ans:\n",
    "Student's t-distribution is a probability distribution that is used to estimate population parameters for small sample sizes or unknown variances. It is also referred to as the Student's t-distribution.\n",
    "One-sample t-test: This test is used to compare the mean of a sample to a known population mean.\n",
    "Two-sample t-test: This test is used to compare the means of two samples.\n",
    "Paired t-test: This test is used to compare the means of two sets of paired data.\n",
    "\n",
    "\n"
   ]
  },
  {
   "cell_type": "raw",
   "id": "6c04f42f-9766-4b5d-8e19-540fb0c96b51",
   "metadata": {},
   "source": [
    "Q12: What is t-statistic? State the formula for t-statistic.\n",
    "\n",
    "The t-statistic is a statistical test statistic used to compare the means of two groups. It is calculated as the difference between the means of the two groups divided by the standard error of the difference in means. The formula for the t-statistic is:\n",
    "    \n",
    "    t = (x̄1 - x̄2) / SE(x̄1 - x̄2)\n",
    "\n",
    "x̄1 is the mean of the first group\n",
    "x̄2 is the mean of the second group\n",
    "SE(x̄1 - x̄2) is the standard error of the difference in means\n",
    "\n",
    "\n"
   ]
  },
  {
   "cell_type": "raw",
   "id": "01ffbab2-43e6-4b6d-a95d-e008595ab8b8",
   "metadata": {},
   "source": [
    "Q13. A coffee shop owner wants to estimate the average daily revenue for their shop. They take a random\n",
    "sample of 50 days and find the sample mean revenue to be $500 with a standard deviation of $50.\n",
    "Estimate the population mean revenue with a 95% confidence interval."
   ]
  },
  {
   "cell_type": "code",
   "execution_count": 12,
   "id": "8b81fd84-4e18-46d4-be29-7b260b5a4584",
   "metadata": {},
   "outputs": [
    {
     "name": "stdout",
     "output_type": "stream",
     "text": [
      "Sample mean: $500\n",
      "Standard deviation: $50\n",
      "Sample size: 50\n",
      "Confidence level: 95.0%\n",
      "Confidence interval: $485.79 to $514.21\n"
     ]
    }
   ],
   "source": [
    "import numpy as np\n",
    "import scipy.stats as stats\n",
    "\n",
    "sample_mean = 500\n",
    "sample_std = 50\n",
    "sample_size = 50\n",
    "\n",
    "# degree of freedom (n-1)\n",
    "dof = sample_size - 1\n",
    "\n",
    "# confidence level\n",
    "confidence_level = 0.95\n",
    "\n",
    "# calculating standard error\n",
    "standard_error = sample_std / (sample_size ** 0.5)\n",
    "\n",
    "# calculate the critical value (two-tailed test)\n",
    "critical_value = stats.t.ppf((1+confidence_level) / 2,dof)\n",
    "\n",
    "margin_of_error = critical_value * standard_error\n",
    "\n",
    "\n",
    "lower_bound = sample_mean - margin_of_error\n",
    "upper_bound = sample_mean + margin_of_error\n",
    "\n",
    "print(f\"Sample mean: ${sample_mean}\")\n",
    "print(f\"Standard deviation: ${sample_std}\")\n",
    "print(f\"Sample size: {sample_size}\")\n",
    "print(f\"Confidence level: {confidence_level * 100}%\")\n",
    "print(f\"Confidence interval: ${lower_bound:.2f} to ${upper_bound:.2f}\")"
   ]
  },
  {
   "cell_type": "raw",
   "id": "4681fbc6-90a5-4f52-af79-be60fa4036e7",
   "metadata": {},
   "source": [
    "Q14. A researcher hypothesizes that a new drug will decrease blood pressure by 10 mmHg. They conduct a\n",
    "clinical trial with 100 patients and find that the sample mean decrease in blood pressure is 8 mmHg with a\n",
    "standard deviation of 3 mmHg. Test the hypothesis with a significance level of 0.05."
   ]
  },
  {
   "cell_type": "code",
   "execution_count": 1,
   "id": "65ee11c1-94fd-44c9-afd0-69d121685734",
   "metadata": {},
   "outputs": [
    {
     "name": "stdout",
     "output_type": "stream",
     "text": [
      "sample mean decrease:8 mmHg\n",
      "Hypothsiezed population mean decrease: 10 mmHg\n",
      "Sample standard deviation:3 mmHg\n",
      "sample size : 100\n",
      "Signigicance level: 0.05\n",
      "t-statistic: -6.666666666666667\n",
      "p-value: 1.5012289189542116e-09\n",
      "Result: reject the null hypothesis\n"
     ]
    }
   ],
   "source": [
    "import numpy as np\n",
    "import scipy.stats as stats\n",
    "\n",
    "# sample statistics\n",
    "\n",
    "sample_mean = 8\n",
    "sample_size = 100\n",
    "population_mean = 10\n",
    "sample_std = 3\n",
    "\n",
    "alpha = 0.05\n",
    "\n",
    "df = sample_size - 1\n",
    "\n",
    "sample_error = sample_std /(sample_size ** 0.5)\n",
    "\n",
    "t_statistic = (sample_mean - population_mean) / sample_error\n",
    "\n",
    "p_value = 2 * (1 - stats.t.cdf(abs(t_statistic),df))\n",
    "\n",
    "# determine the null hypothesis is rejected\n",
    "\n",
    "if p_value < alpha :\n",
    "    result = \"reject\"\n",
    "else:\n",
    "    result = \"fail to reject\"\n",
    "    \n",
    "print(f\"sample mean decrease:{sample_mean} mmHg\")\n",
    "print(f\"Hypothsiezed population mean decrease: {population_mean} mmHg\")\n",
    "print(f\"Sample standard deviation:{sample_std} mmHg\")\n",
    "print(f\"sample size : {sample_size}\")\n",
    "print(f\"Signigicance level: {alpha}\")\n",
    "print(f\"t-statistic: {t_statistic}\")\n",
    "print(f\"p-value: {p_value}\")\n",
    "print(f\"Result: {result} the null hypothesis\")"
   ]
  },
  {
   "cell_type": "code",
   "execution_count": null,
   "id": "8d12dd5a-4e85-4f0f-ab38-5f10519e2f20",
   "metadata": {},
   "outputs": [],
   "source": []
  },
  {
   "cell_type": "raw",
   "id": "33385cea-7b6c-4519-abcc-2d84714c11c8",
   "metadata": {},
   "source": [
    "Q15. An electronics company produces a certain type of product with a mean weight of 5 pounds and a\n",
    "standard deviation of 0.5 pounds. A random sample of 25 products is taken, and the sample mean weight\n",
    "is found to be 4.8 pounds. Test the hypothesis that the true mean weight of the products is less than 5\n",
    "pounds with a significance level of 0.01."
   ]
  },
  {
   "cell_type": "code",
   "execution_count": 6,
   "id": "dca5a3ed-2d30-41f0-9237-6934b8b95198",
   "metadata": {},
   "outputs": [
    {
     "name": "stdout",
     "output_type": "stream",
     "text": [
      "Sample mean weight: 4.8 pounds\n",
      "Hypothesized population mean weight: 5 pounds\n",
      "Sample standard deviation: 0.5 pounds\n",
      "Sample size: 25\n",
      "Significance level (alpha): 0.01\n",
      "t-statistic: -2.0000000000000018\n",
      "p-value: 0.02846992496829572\n",
      "Result: fail to reject the null hypothesis\n"
     ]
    }
   ],
   "source": [
    "import numpy as np\n",
    "import scipy.stats as stats\n",
    "\n",
    "sample_mean = 4.8\n",
    "std_dev = 0.5\n",
    "population_mean = 5\n",
    "sample_size = 25\n",
    "significance_level = 0.01\n",
    "\n",
    "df = sample_size - 1\n",
    "\n",
    "standard_error = std_dev / sample_size ** 0.5\n",
    "t_statistic = (sample_mean - population_mean) / standard_error\n",
    "\n",
    "p_value = stats.t.cdf(t_statistic , df)\n",
    "\n",
    "if p_value < significance_level:\n",
    "    result = \"reject\"\n",
    "else:\n",
    "    result = \"fail to reject\"\n",
    "    \n",
    "print(f\"Sample mean weight: {sample_mean} pounds\")\n",
    "print(f\"Hypothesized population mean weight: {population_mean} pounds\")\n",
    "print(f\"Sample standard deviation: {std_dev} pounds\")\n",
    "print(f\"Sample size: {sample_size}\")\n",
    "print(f\"Significance level (alpha): {significance_level}\")\n",
    "print(f\"t-statistic: {t_statistic}\")\n",
    "print(f\"p-value: {p_value}\")\n",
    "print(f\"Result: {result} the null hypothesis\")"
   ]
  },
  {
   "cell_type": "code",
   "execution_count": null,
   "id": "381cd4f7-e438-447d-a109-068a91c6ff61",
   "metadata": {},
   "outputs": [],
   "source": []
  },
  {
   "cell_type": "raw",
   "id": "5795a876-64a0-43e5-b8cc-a07ec4ccaeed",
   "metadata": {},
   "source": [
    "Q16. Two groups of students are given different study materials to prepare for a test. The first group (n1 =\n",
    "30) has a mean score of 80 with a standard deviation of 10, and the second group (n2 = 40) has a mean\n",
    "score of 75 with a standard deviation of 8. Test the hypothesis that the population means for the two\n",
    "groups are equal with a significance level of 0.01."
   ]
  },
  {
   "cell_type": "code",
   "execution_count": 2,
   "id": "905f2d32-8f46-44b0-80d5-9aa32824672c",
   "metadata": {},
   "outputs": [
    {
     "name": "stdout",
     "output_type": "stream",
     "text": [
      "Group 1 mean score: 80\n",
      "Group 2 mean score: 75\n",
      "Group 1 standard deviation: 10\n",
      "Group 2 standard deviation: 8\n",
      "Group 1 sample size: 30\n",
      "Group 2 sample size: 40\n",
      "Significance level (alpha): 0.01\n",
      "t-statistic: 0.031636914637910955\n",
      "p-value: 0.9748542806800207\n",
      "Result: fail to reject the null hypothesis\n"
     ]
    }
   ],
   "source": [
    "import scipy.stats as stats\n",
    "# Group 1 statistics\n",
    "group1_mean = 80      # Group 1 mean score\n",
    "group1_std = 10      # Group 1 standard deviation\n",
    "group1_size = 30      # Group 1 sample size\n",
    "\n",
    "# Group 2 statistics\n",
    "group2_mean = 75      # Group 2 mean score\n",
    "group2_std = 8      # Group 2 standard deviation\n",
    "group2_size = 40      # Group 2 sample size\n",
    "\n",
    "# Degrees of freedom\n",
    "df = group1_size + group2_size - 2\n",
    "\n",
    "# Set the significance level (alpha)\n",
    "alpha = 0.01\n",
    "\n",
    "# Calculate the pooled standard deviation\n",
    "pooled_std = ((group1_size - 1) * group1_std ** 2 + (group2_size - 1) * group2_std ** 2) / df ** 0.5\n",
    "\n",
    "# Calculate the t-statistic\n",
    "t_statistic = (group1_mean - group2_mean) / (pooled_std * (1 / group1_size + 1 / group2_size) ** 0.5)\n",
    "\n",
    "# Calculate the p-value (two-tailed test)\n",
    "p_value = 2 * (1 - stats.t.cdf(abs(t_statistic), df))\n",
    "\n",
    "# Determine if the null hypothesis is rejected\n",
    "if p_value < alpha:\n",
    "    result = \"reject\"\n",
    "else:\n",
    "    result = \"fail to reject\"\n",
    "\n",
    "# Print the results\n",
    "print(f\"Group 1 mean score: {group1_mean}\")\n",
    "print(f\"Group 2 mean score: {group2_mean}\")\n",
    "print(f\"Group 1 standard deviation: {group1_std}\")\n",
    "print(f\"Group 2 standard deviation: {group2_std}\")\n",
    "print(f\"Group 1 sample size: {group1_size}\")\n",
    "print(f\"Group 2 sample size: {group2_size}\")\n",
    "print(f\"Significance level (alpha): {alpha}\")\n",
    "print(f\"t-statistic: {t_statistic}\")\n",
    "print(f\"p-value: {p_value}\")\n",
    "print(f\"Result: {result} the null hypothesis\")\n",
    "\n"
   ]
  },
  {
   "cell_type": "code",
   "execution_count": null,
   "id": "3df0559a-942a-4df5-9e88-611dfc708cfd",
   "metadata": {},
   "outputs": [],
   "source": []
  },
  {
   "cell_type": "raw",
   "id": "7ec1bfb0-418f-4fba-bba8-30f3c404675f",
   "metadata": {},
   "source": [
    "Q17. A marketing company wants to estimate the average number of ads watched by viewers during a TV\n",
    "program. They take a random sample of 50 viewers and find that the sample mean is 4 with a standard\n",
    "deviation of 1.5. Estimate the population mean with a 99% confidence interval."
   ]
  },
  {
   "cell_type": "code",
   "execution_count": 4,
   "id": "34bc5bec-78ab-40a2-a587-e848a072bd01",
   "metadata": {},
   "outputs": [
    {
     "name": "stdout",
     "output_type": "stream",
     "text": [
      "Sample mean: 4\n",
      "Sample standard deviation: 1.5\n",
      "Sample size: 50\n",
      "Confidence level: 99.0%\n",
      "Confidence interval: 3.43 to 4.57\n"
     ]
    }
   ],
   "source": [
    "import scipy.stats as stats\n",
    "\n",
    "# Sample statistics\n",
    "sample_mean = 4       # Sample mean\n",
    "sample_std = 1.5     # Sample standard deviation\n",
    "sample_size = 50     # Sample size\n",
    "\n",
    "# Degrees of freedom (n - 1)\n",
    "df = sample_size - 1\n",
    "\n",
    "# Confidence level\n",
    "confidence_level = 0.99\n",
    "\n",
    "# Calculate the standard error\n",
    "standard_error = sample_std / (sample_size ** 0.5)\n",
    "\n",
    "# Calculate the critical value (two-tailed test)\n",
    "critical_value = stats.t.ppf((1 + confidence_level) / 2, df)\n",
    "\n",
    "# Calculate the margin of error\n",
    "margin_of_error = critical_value * standard_error\n",
    "\n",
    "# Calculate the lower and upper bounds of the confidence interval\n",
    "lower_bound = sample_mean - margin_of_error\n",
    "upper_bound = sample_mean + margin_of_error\n",
    "\n",
    "# Print the results\n",
    "print(f\"Sample mean: {sample_mean}\")\n",
    "print(f\"Sample standard deviation: {sample_std}\")\n",
    "print(f\"Sample size: {sample_size}\")\n",
    "print(f\"Confidence level: {confidence_level * 100}%\")\n",
    "print(f\"Confidence interval: {lower_bound:.2f} to {upper_bound:.2f}\")\n",
    "\n"
   ]
  },
  {
   "cell_type": "code",
   "execution_count": null,
   "id": "c6cb1c8a-5261-42e5-ade1-f86732c54644",
   "metadata": {},
   "outputs": [],
   "source": []
  }
 ],
 "metadata": {
  "kernelspec": {
   "display_name": "Python 3 (ipykernel)",
   "language": "python",
   "name": "python3"
  },
  "language_info": {
   "codemirror_mode": {
    "name": "ipython",
    "version": 3
   },
   "file_extension": ".py",
   "mimetype": "text/x-python",
   "name": "python",
   "nbconvert_exporter": "python",
   "pygments_lexer": "ipython3",
   "version": "3.10.8"
  }
 },
 "nbformat": 4,
 "nbformat_minor": 5
}
